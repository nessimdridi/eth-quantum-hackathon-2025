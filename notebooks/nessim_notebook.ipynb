{
 "cells": [
  {
   "cell_type": "code",
   "execution_count": 1,
   "metadata": {},
   "outputs": [],
   "source": [
    "# %% [markdown]\n",
    "# # Prototype Pipeline for 8-qubit QFT on Penning Trap\n",
    "#\n",
    "# This notebook will:\n",
    "# 1. Load and inspect the Penning-trap graph  \n",
    "# 2. Extract standard / interaction / idle nodes  \n",
    "# 3. Provide simple pathfinding utilities  \n",
    "# 4. Define a minimal `Scheduler` with `step` & `move_ion`  \n",
    "# 5. Smoke-test by moving one ion and calling `verifier`\n",
    "#\n",
    "# After this, Alice can plug in the full QFT-to-primitives list, and Dave can hook in visualization."
   ]
  },
  {
   "cell_type": "code",
   "execution_count": 2,
   "metadata": {},
   "outputs": [
    {
     "name": "stderr",
     "output_type": "stream",
     "text": [
      "/Users/nd/OS/Code/quantum-hackaton-2025/.venv/lib/python3.9/site-packages/urllib3/__init__.py:35: NotOpenSSLWarning: urllib3 v2 only supports OpenSSL 1.1.1+, currently the 'ssl' module is compiled with 'LibreSSL 2.8.3'. See: https://github.com/urllib3/urllib3/issues/3020\n",
      "  warnings.warn(\n"
     ]
    }
   ],
   "source": [
    "# %% \n",
    "# Environment & Imports\n",
    "import sys\n",
    "import os\n",
    "\n",
    "# Point to the src folder\n",
    "sys.path.append(os.path.abspath(os.path.join(os.getcwd(), \"..\", \"src\")))\n",
    "\n",
    "import networkx as nx\n",
    "from trap import create_trap_graph\n",
    "from verifier import verifier\n"
   ]
  },
  {
   "cell_type": "code",
   "execution_count": 3,
   "metadata": {},
   "outputs": [
    {
     "name": "stdout",
     "output_type": "stream",
     "text": [
      "Total nodes: 64, edges: 87\n",
      "Sample nodes with types:\n",
      "  (0, 0) → standard\n",
      "  (0, 0, 'idle') → idle\n",
      "  (0, 1) → standard\n",
      "  (0, 1, 'idle') → idle\n",
      "  (0, 2) → standard\n",
      "Standard nodes   : 29\n",
      "Interaction nodes: 6\n",
      "Idle nodes       : 29\n",
      "\n",
      "Neighbors of interaction node (1, 1) → [(0, 1), (1, 0), (1, 2), (2, 1)]\n"
     ]
    }
   ],
   "source": [
    "# %% [markdown]\n",
    "# ## 1. Load & inspect the trap graph\n",
    "\n",
    "# %% \n",
    "G = create_trap_graph()\n",
    "print(f\"Total nodes: {G.number_of_nodes()}, edges: {G.number_of_edges()}\")\n",
    "\n",
    "# Inspect a few node attributes\n",
    "sample = list(G.nodes)[:5]\n",
    "print(\"Sample nodes with types:\")\n",
    "for n in sample:\n",
    "    print(\" \", n, \"→\", G.nodes[n][\"type\"])\n",
    "\n",
    "# %% [markdown]\n",
    "# ## 2. List and count each node type\n",
    "\n",
    "# %% \n",
    "standard = [n for n, d in G.nodes(data=True) if d[\"type\"] == \"standard\"]\n",
    "interaction = [n for n, d in G.nodes(data=True) if d[\"type\"] == \"interaction\"]\n",
    "idle = [n for n, d in G.nodes(data=True) if d[\"type\"] == \"idle\"]\n",
    "\n",
    "print(f\"Standard nodes   : {len(standard)}\")\n",
    "print(f\"Interaction nodes: {len(interaction)}\")\n",
    "print(f\"Idle nodes       : {len(idle)}\")\n",
    "\n",
    "# Check a couple of adjacency properties\n",
    "print(\"\\nNeighbors of interaction node\", interaction[0], \"→\", list(G.neighbors(interaction[0])))"
   ]
  },
  {
   "cell_type": "code",
   "execution_count": 5,
   "metadata": {},
   "outputs": [
    {
     "name": "stdout",
     "output_type": "stream",
     "text": [
      "Distance from (0, 0) to (1, 1): 2\n",
      "Path: [(0, 0), (0, 1), (1, 1)]\n"
     ]
    }
   ],
   "source": [
    "# %% [markdown]\n",
    "# ## 3. Pathfinding utilities\n",
    "\n",
    "# %% \n",
    "from functools import lru_cache\n",
    "\n",
    "@lru_cache(maxsize=None)\n",
    "def shortest_path(src, dst):\n",
    "    \"\"\"Return list of nodes along the shortest path from src to dst.\"\"\"\n",
    "    return nx.shortest_path(G, src, dst)\n",
    "\n",
    "@lru_cache(maxsize=None)\n",
    "def shortest_distance(src, dst):\n",
    "    \"\"\"Return the number of edges between src and dst.\"\"\"\n",
    "    return nx.shortest_path_length(G, src, dst)\n",
    "\n",
    "# Quick sanity check\n",
    "a, b = standard[0], interaction[0]\n",
    "print(f\"Distance from {a} to {b}:\", shortest_distance(a, b))\n",
    "print(\"Path:\", shortest_path(a, b))"
   ]
  },
  {
   "cell_type": "code",
   "execution_count": 6,
   "metadata": {},
   "outputs": [],
   "source": [
    "# %% [markdown]\n",
    "# ## 4. Scheduler skeleton\n",
    "\n",
    "# %% \n",
    "class Scheduler:\n",
    "    def __init__(self, graph, init_positions):\n",
    "        self.G = graph\n",
    "        self.positions_history = []\n",
    "        self.gates_schedule = []\n",
    "        # current_positions is a list of length 8 of node IDs\n",
    "        self.current_positions = list(init_positions)\n",
    "\n",
    "    def step(self, new_positions, gates_at_step):\n",
    "        \"\"\"Record a single time step.\"\"\"\n",
    "        # record *before* the move or gate\n",
    "        self.positions_history.append(list(self.current_positions))\n",
    "        self.gates_schedule.append(list(gates_at_step))\n",
    "        # update for next step\n",
    "        self.current_positions = list(new_positions)\n",
    "\n",
    "    def move_ion(self, ion_idx, path):\n",
    "        \"\"\"Shuttle one ion along the given node path (list of node IDs).\"\"\"\n",
    "        for nxt in path[1:]:\n",
    "            new_pos = list(self.current_positions)\n",
    "            new_pos[ion_idx] = nxt\n",
    "            self.step(new_pos, [])  # no gates during shuttling\n",
    "\n",
    "    def get_results(self):\n",
    "        return self.positions_history, self.gates_schedule"
   ]
  },
  {
   "cell_type": "code",
   "execution_count": 7,
   "metadata": {},
   "outputs": [
    {
     "name": "stdout",
     "output_type": "stream",
     "text": [
      "Initial positions: [(0, 0), (0, 1), (0, 2), (0, 3), (0, 4), (0, 5), (0, 6), (1, 0)]\n",
      "Shuttling ion 3 from (0, 3) to (1, 1) and back\n",
      "\n",
      "Generated timeline length: 7 steps\n"
     ]
    }
   ],
   "source": [
    "\n",
    "# %% [markdown]\n",
    "# ## 5. Initialize positions & smoke-test\n",
    "\n",
    "# %% \n",
    "# For prototype: pick the first 8 standard nodes (sorted) as start\n",
    "standard_sorted = sorted(standard)\n",
    "init_pos = standard_sorted[:8]\n",
    "print(\"Initial positions:\", init_pos)\n",
    "\n",
    "# Instantiate scheduler\n",
    "sched = Scheduler(G, init_pos)\n",
    "\n",
    "# Move ion 3 to the first interaction node, then back\n",
    "target = interaction[0]\n",
    "print(f\"Shuttling ion 3 from {sched.current_positions[3]} to {target} and back\")\n",
    "path_to = shortest_path(sched.current_positions[3], target)\n",
    "sched.move_ion(3, path_to)\n",
    "# record an empty step at the interaction node (to satisfy two-step MS later)\n",
    "sched.step(sched.current_positions, [])\n",
    "# move back\n",
    "path_back = list(reversed(path_to))\n",
    "sched.move_ion(3, path_back)\n",
    "\n",
    "positions, gates = sched.get_results()\n",
    "print(f\"\\nGenerated timeline length: {len(positions)} steps\")"
   ]
  },
  {
   "cell_type": "code",
   "execution_count": 8,
   "metadata": {},
   "outputs": [
    {
     "name": "stdout",
     "output_type": "stream",
     "text": [
      "Verifying the positions history and gates schedule...\n"
     ]
    },
    {
     "ename": "ValueError",
     "evalue": "Error: Overlapping ions at non-interaction node (0, 2) at step 1.",
     "output_type": "error",
     "traceback": [
      "\u001b[0;31m---------------------------------------------------------------------------\u001b[0m",
      "\u001b[0;31mValueError\u001b[0m                                Traceback (most recent call last)",
      "Cell \u001b[0;32mIn[8], line 9\u001b[0m\n\u001b[1;32m      6\u001b[0m \u001b[38;5;28;01massert\u001b[39;00m \u001b[38;5;28mall\u001b[39m(\u001b[38;5;28mlen\u001b[39m(gs)\u001b[38;5;241m==\u001b[39m\u001b[38;5;241m0\u001b[39m \u001b[38;5;28;01mfor\u001b[39;00m gs \u001b[38;5;129;01min\u001b[39;00m gates), \u001b[38;5;124m\"\u001b[39m\u001b[38;5;124mExpected no gates in this smoke-test\u001b[39m\u001b[38;5;124m\"\u001b[39m\n\u001b[1;32m      8\u001b[0m \u001b[38;5;66;03m# Now call verifier to check shuttling rules\u001b[39;00m\n\u001b[0;32m----> 9\u001b[0m \u001b[43mverifier\u001b[49m\u001b[43m(\u001b[49m\u001b[43mpositions\u001b[49m\u001b[43m,\u001b[49m\u001b[43m \u001b[49m\u001b[43mgates\u001b[49m\u001b[43m,\u001b[49m\u001b[43m \u001b[49m\u001b[43mG\u001b[49m\u001b[43m)\u001b[49m\n\u001b[1;32m     11\u001b[0m \u001b[38;5;66;03m# %% [markdown]\u001b[39;00m\n\u001b[1;32m     12\u001b[0m \u001b[38;5;66;03m# **Next Steps**  \u001b[39;00m\n\u001b[1;32m     13\u001b[0m \u001b[38;5;66;03m# - Alice plugs in `qft_primitives = [...]` and loops:\u001b[39;00m\n\u001b[0;32m   (...)\u001b[0m\n\u001b[1;32m     22\u001b[0m \u001b[38;5;66;03m#\u001b[39;00m\n\u001b[1;32m     23\u001b[0m \u001b[38;5;66;03m# From here you have a minimal, valid pipeline to expand on!\u001b[39;00m\n",
      "File \u001b[0;32m~/OS/Code/quantum-hackaton-2025/src/verifier.py:196\u001b[0m, in \u001b[0;36mverifier\u001b[0;34m(positions_history, gates_schedule, graph)\u001b[0m\n\u001b[1;32m    194\u001b[0m \u001b[38;5;28;01mfor\u001b[39;00m overlap \u001b[38;5;129;01min\u001b[39;00m overlapping_positions:\n\u001b[1;32m    195\u001b[0m     \u001b[38;5;28;01mif\u001b[39;00m graph\u001b[38;5;241m.\u001b[39mnodes[overlap][\u001b[38;5;124m\"\u001b[39m\u001b[38;5;124mtype\u001b[39m\u001b[38;5;124m\"\u001b[39m] \u001b[38;5;241m!=\u001b[39m \u001b[38;5;124m\"\u001b[39m\u001b[38;5;124minteraction\u001b[39m\u001b[38;5;124m\"\u001b[39m:\n\u001b[0;32m--> 196\u001b[0m         \u001b[38;5;28;01mraise\u001b[39;00m \u001b[38;5;167;01mValueError\u001b[39;00m(\n\u001b[1;32m    197\u001b[0m             \u001b[38;5;124mf\u001b[39m\u001b[38;5;124m\"\u001b[39m\u001b[38;5;124mError: Overlapping ions at non-interaction node \u001b[39m\u001b[38;5;132;01m{\u001b[39;00moverlap\u001b[38;5;132;01m}\u001b[39;00m\u001b[38;5;124m at step \u001b[39m\u001b[38;5;132;01m{\u001b[39;00mi\u001b[38;5;132;01m}\u001b[39;00m\u001b[38;5;124m.\u001b[39m\u001b[38;5;124m\"\u001b[39m\n\u001b[1;32m    198\u001b[0m         )\n\u001b[1;32m    199\u001b[0m     \u001b[38;5;28;01mif\u001b[39;00m positions\u001b[38;5;241m.\u001b[39mcount(overlap) \u001b[38;5;241m>\u001b[39m \u001b[38;5;241m2\u001b[39m:\n\u001b[1;32m    200\u001b[0m         \u001b[38;5;28;01mraise\u001b[39;00m \u001b[38;5;167;01mValueError\u001b[39;00m(\n\u001b[1;32m    201\u001b[0m             \u001b[38;5;124mf\u001b[39m\u001b[38;5;124m\"\u001b[39m\u001b[38;5;124mError: More than two ions overlapping at interaction node \u001b[39m\u001b[38;5;132;01m{\u001b[39;00moverlap\u001b[38;5;132;01m}\u001b[39;00m\u001b[38;5;124m at step \u001b[39m\u001b[38;5;132;01m{\u001b[39;00mi\u001b[38;5;132;01m}\u001b[39;00m\u001b[38;5;124m.\u001b[39m\u001b[38;5;124m\"\u001b[39m\n\u001b[1;32m    202\u001b[0m         )\n",
      "\u001b[0;31mValueError\u001b[0m: Error: Overlapping ions at non-interaction node (0, 2) at step 1."
     ]
    }
   ],
   "source": [
    "# %% [markdown]\n",
    "# ## 6. Verify the smoke-test timeline\n",
    "\n",
    "# %% \n",
    "# No gates in our test, so gates_schedule should be all empty lists\n",
    "assert all(len(gs)==0 for gs in gates), \"Expected no gates in this smoke-test\"\n",
    "\n",
    "# Now call verifier to check shuttling rules\n",
    "verifier(positions, gates, G)\n",
    "\n",
    "# %% [markdown]\n",
    "# **Next Steps**  \n",
    "# - Alice plugs in `qft_primitives = [...]` and loops:\n",
    "#     ```python\n",
    "#     for gate in qft_primitives:\n",
    "#         if gate is single-qubit:\n",
    "#             sched.apply_single(...)\n",
    "#         else:\n",
    "#             sched.apply_ms(...)\n",
    "#     ```\n",
    "# - Dave can start reading `positions_history` & `gates_schedule` for visualization.\n",
    "#\n",
    "# From here you have a minimal, valid pipeline to expand on!"
   ]
  }
 ],
 "metadata": {
  "kernelspec": {
   "display_name": ".venv",
   "language": "python",
   "name": "python3"
  },
  "language_info": {
   "codemirror_mode": {
    "name": "ipython",
    "version": 3
   },
   "file_extension": ".py",
   "mimetype": "text/x-python",
   "name": "python",
   "nbconvert_exporter": "python",
   "pygments_lexer": "ipython3",
   "version": "3.9.6"
  }
 },
 "nbformat": 4,
 "nbformat_minor": 5
}
