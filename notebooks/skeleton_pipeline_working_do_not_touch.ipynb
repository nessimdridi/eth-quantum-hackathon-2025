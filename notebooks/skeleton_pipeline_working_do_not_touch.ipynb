{
 "cells": [
  {
   "cell_type": "code",
   "execution_count": 1,
   "id": "f51e24a7",
   "metadata": {},
   "outputs": [
    {
     "name": "stderr",
     "output_type": "stream",
     "text": [
      "/Users/nd/OS/Code/quantum-hackaton-2025/.venv/lib/python3.9/site-packages/urllib3/__init__.py:35: NotOpenSSLWarning: urllib3 v2 only supports OpenSSL 1.1.1+, currently the 'ssl' module is compiled with 'LibreSSL 2.8.3'. See: https://github.com/urllib3/urllib3/issues/3020\n",
      "  warnings.warn(\n"
     ]
    }
   ],
   "source": [
    "# %% \n",
    "# Environment & Imports\n",
    "import sys\n",
    "import os\n",
    "\n",
    "# Point to the src folder\n",
    "sys.path.append(os.path.abspath(os.path.join(os.getcwd(), \"..\", \"src\")))\n",
    "\n",
    "import networkx as nx\n",
    "from trap import create_trap_graph\n",
    "from verifier import verifier"
   ]
  },
  {
   "cell_type": "code",
   "execution_count": 2,
   "id": "9bcd6983",
   "metadata": {},
   "outputs": [
    {
     "name": "stdout",
     "output_type": "stream",
     "text": [
      "Total nodes: 64, edges: 87\n",
      "Sample nodes with types:\n",
      "  (0, 0) → standard\n",
      "  (0, 0, 'idle') → idle\n",
      "  (0, 1) → standard\n",
      "  (0, 1, 'idle') → idle\n",
      "  (0, 2) → standard\n"
     ]
    }
   ],
   "source": [
    "# %% [markdown]\n",
    "# ## 1. Load & inspect the trap graph\n",
    "\n",
    "# %% \n",
    "G = create_trap_graph()\n",
    "print(f\"Total nodes: {G.number_of_nodes()}, edges: {G.number_of_edges()}\")\n",
    "\n",
    "# Inspect a few node attributes\n",
    "sample = list(G.nodes)[:5]\n",
    "print(\"Sample nodes with types:\")\n",
    "for n in sample:\n",
    "    print(\" \", n, \"→\", G.nodes[n][\"type\"])"
   ]
  },
  {
   "cell_type": "code",
   "execution_count": 3,
   "id": "0464bb6c",
   "metadata": {},
   "outputs": [
    {
     "name": "stdout",
     "output_type": "stream",
     "text": [
      "Standard nodes   : 29\n",
      "Interaction nodes: 6\n",
      "Idle nodes       : 29\n",
      "\n",
      "Neighbors of interaction node (1, 1) → [(0, 1), (1, 0), (1, 2), (2, 1)]\n"
     ]
    }
   ],
   "source": [
    "# %% [markdown]\n",
    "# ## 2. List and count each node type\n",
    "\n",
    "# %% \n",
    "standard = [n for n, d in G.nodes(data=True) if d[\"type\"] == \"standard\"]\n",
    "interaction = [n for n, d in G.nodes(data=True) if d[\"type\"] == \"interaction\"]\n",
    "idle = [n for n, d in G.nodes(data=True) if d[\"type\"] == \"idle\"]\n",
    "\n",
    "print(f\"Standard nodes   : {len(standard)}\")\n",
    "print(f\"Interaction nodes: {len(interaction)}\")\n",
    "print(f\"Idle nodes       : {len(idle)}\")\n",
    "\n",
    "# Check a couple of adjacency properties\n",
    "print(\"\\nNeighbors of interaction node\", interaction[0], \"→\", list(G.neighbors(interaction[0])))"
   ]
  },
  {
   "cell_type": "code",
   "execution_count": 4,
   "id": "6ac651a9",
   "metadata": {},
   "outputs": [
    {
     "name": "stdout",
     "output_type": "stream",
     "text": [
      "Distance from (0, 0) to (1, 1): 2\n",
      "Path: [(0, 0), (0, 1), (1, 1)]\n"
     ]
    }
   ],
   "source": [
    "# %% [markdown]\n",
    "# ## 3. Pathfinding utilities\n",
    "\n",
    "# %% \n",
    "from functools import lru_cache\n",
    "\n",
    "@lru_cache(maxsize=None)\n",
    "def shortest_path(src, dst):\n",
    "    \"\"\"Return list of nodes along the shortest path from src to dst.\"\"\"\n",
    "    return nx.shortest_path(G, src, dst)\n",
    "\n",
    "@lru_cache(maxsize=None)\n",
    "def shortest_distance(src, dst):\n",
    "    \"\"\"Return the number of edges between src and dst.\"\"\"\n",
    "    return nx.shortest_path_length(G, src, dst)\n",
    "\n",
    "# Quick sanity check\n",
    "a, b = standard[0], interaction[0]\n",
    "print(f\"Distance from {a} to {b}:\", shortest_distance(a, b))\n",
    "print(\"Path:\", shortest_path(a, b))"
   ]
  },
  {
   "cell_type": "code",
   "execution_count": 5,
   "metadata": {},
   "outputs": [],
   "source": [
    "# %% [markdown]\n",
    "# ## 4. Scheduler skeleton\n",
    "\n",
    "# %% \n",
    "class Scheduler:\n",
    "    def __init__(self, graph, init_positions):\n",
    "        self.G = graph\n",
    "        self.positions_history = []\n",
    "        self.gates_schedule = []\n",
    "        # current_positions is a list of length 8 of node IDs\n",
    "        self.current_positions = list(init_positions)\n",
    "\n",
    "    def step(self, new_positions, gates_at_step):\n",
    "        \"\"\"Record a single time step.\"\"\"\n",
    "        # record *before* the move or gate\n",
    "        self.positions_history.append(list(self.current_positions))\n",
    "        self.gates_schedule.append(list(gates_at_step))\n",
    "        # update for next step\n",
    "        self.current_positions = list(new_positions)\n",
    "\n",
    "    def move_ion(self, ion_idx, path):\n",
    "        \"\"\"Shuttle one ion along the given node path (list of node IDs).\"\"\"\n",
    "        for nxt in path[1:]:\n",
    "            new_pos = list(self.current_positions)\n",
    "            new_pos[ion_idx] = nxt\n",
    "            self.step(new_pos, [])  # no gates during shuttling\n",
    "\n",
    "    def get_results(self):\n",
    "        return self.positions_history, self.gates_schedule"
   ]
  },
  {
   "cell_type": "code",
   "execution_count": 6,
   "id": "4f8636e6",
   "metadata": {},
   "outputs": [
    {
     "name": "stdout",
     "output_type": "stream",
     "text": [
      "Initial positions: [(0, 0), (0, 1), (0, 2), (0, 3), (0, 4), (0, 5), (0, 6), (1, 0)]\n",
      "Shuttling ion 7 from (1, 0) to (1, 1) and back\n",
      "  path → [(1, 0), (1, 1)]\n",
      "\n",
      "Generated timeline length: 3 steps\n"
     ]
    }
   ],
   "source": [
    "# %% [markdown]\n",
    "## 5. Initialize positions & smoke-test\n",
    "\n",
    "# %%\n",
    "# For prototype: pick the first 8 standard nodes (sorted) as start\n",
    "standard_sorted = sorted(standard)\n",
    "init_pos = standard_sorted[:8]\n",
    "print(\"Initial positions:\", init_pos)\n",
    "\n",
    "# Instantiate scheduler\n",
    "sched = Scheduler(G, init_pos)\n",
    "\n",
    "# Move ion 7 to the first interaction node, then back\n",
    "ion_idx = 7\n",
    "start = sched.current_positions[ion_idx]\n",
    "target = interaction[0]\n",
    "print(f\"Shuttling ion {ion_idx} from {start} to {target} and back\")\n",
    "path_to = shortest_path(start, target)\n",
    "print(\"  path →\", path_to)\n",
    "\n",
    "# Shuttle out\n",
    "sched.move_ion(ion_idx, path_to)\n",
    "# Stay one empty step at the interaction node\n",
    "sched.step(sched.current_positions, [])\n",
    "# Shuttle back\n",
    "sched.move_ion(ion_idx, list(reversed(path_to)))\n",
    "\n",
    "# Retrieve and inspect results\n",
    "positions, gates = sched.get_results()\n",
    "print(f\"\\nGenerated timeline length: {len(positions)} steps\")"
   ]
  },
  {
   "cell_type": "code",
   "execution_count": 7,
   "id": "15a61f16",
   "metadata": {},
   "outputs": [],
   "source": [
    "def get_qubits_paths(current_positions, interaction_positions, qu1, qu2):\n",
    "    \"\"\"\n",
    "    Get the simultaneous movement paths from qubit 1 and qubit 2 to their interaction point.\n",
    "\n",
    "    Args:\n",
    "        current_positions (list of tuple): Positions of all qubits.\n",
    "        interaction_positions (list of tuple): Positions of all interaction points.\n",
    "        qu1 (int): Index of the first qubit.\n",
    "        qu2 (int): Index of the second qubit.\n",
    "        G (networkx.Graph): The trap graph.\n",
    "\n",
    "    Returns:\n",
    "        tuple: (path1, path2) where\n",
    "            path1 is the path from qu1 to the interaction point,\n",
    "            path2 is the path from qu2 to the interaction point.\n",
    "    \"\"\"\n",
    "    int_idx, int_pos  = select_int_point(current_positions, interaction_positions, qu1, qu2)\n",
    "    path1 = shortest_path(current_positions[qu1], interaction_positions[int_idx])\n",
    "    path2 = shortest_path(current_positions[qu2], interaction_positions[int_idx])\n",
    "    return path1, path2\n",
    "\n",
    "\n",
    "def get_path(current_positions, interaction_positions, qu1, qu2):\n",
    "    \"\"\"\n",
    "    Replace current_positions with step-by-step updates for qubit 1 and qubit 2\n",
    "    as they move along their respective paths to the interaction point.\n",
    "\n",
    "    Args:\n",
    "        current_positions (list of tuple): Initial positions of all qubits.\n",
    "        path1 (list of tuple): Path for qubit 1.\n",
    "        path2 (list of tuple): Path for qubit 2.\n",
    "        qu1 (int): Index of the first qubit.\n",
    "        qu2 (int): Index of the second qubit.\n",
    "\n",
    "    Returns:\n",
    "        list of list of tuple: A list where each item is a full current_positions snapshot for that step.\n",
    "    \"\"\"\n",
    "    path1, path2 = get_qubits_paths(current_positions, interaction_positions, qu1, qu2)\n",
    "    max_len = max(len(path1), len(path2))\n",
    "    \n",
    "    # Pad paths to same length (qubit stays at interaction point once arrived)\n",
    "    padded1 = path1 + [path1[-1]] * (max_len - len(path1))\n",
    "    padded2 = path2 + [path2[-1]] * (max_len - len(path2))\n",
    "\n",
    "    stepwise_positions = []\n",
    "    for i in range(max_len):\n",
    "        step = list(current_positions)  # Copy the current state\n",
    "        step[qu1] = padded1[i]\n",
    "        step[qu2] = padded2[i]\n",
    "        stepwise_positions.append(step)\n",
    "\n",
    "    return stepwise_positions"
   ]
  },
  {
   "cell_type": "code",
   "execution_count": 8,
   "metadata": {},
   "outputs": [
    {
     "name": "stdout",
     "output_type": "stream",
     "text": [
      "Verifying the positions history and gates schedule...\n",
      "Positions and gates are valid.\n",
      "Verifying the fidelity of the circuit without adding noise...\n",
      "Fidelity of the circuit: 0.003906254388625148\n",
      "✅ Shuttling rules passed (QFT fidelity check skipped for smoke-test).\n"
     ]
    }
   ],
   "source": [
    "# %% [markdown]\n",
    "## 6. Verify shuttling-only (ignore QFT fidelity)\n",
    "\n",
    "# %%\n",
    "import traceback\n",
    "\n",
    "try:\n",
    "    verifier(positions, gates, G)\n",
    "except ValueError as e:\n",
    "    msg = str(e)\n",
    "    # If it's only complaining about the missing QFT, we can ignore it here\n",
    "    if \"does not implement QFT\" in msg:\n",
    "        print(\"✅ Shuttling rules passed (QFT fidelity check skipped for smoke-test).\")\n",
    "    else:\n",
    "        # Re-raise any other violations\n",
    "        print(traceback.format_exc())\n",
    "        raise"
   ]
  },
  {
   "cell_type": "code",
   "execution_count": 9,
   "metadata": {},
   "outputs": [
    {
     "name": "stderr",
     "output_type": "stream",
     "text": [
      "MovieWriter ffmpeg unavailable; using Pillow instead.\n"
     ]
    },
    {
     "data": {
      "image/gif": "[encoded data removed]",
      "text/plain": [
       "<IPython.core.display.Image object>"
      ]
     },
     "metadata": {},
     "output_type": "display_data"
    }
   ],
   "source": [
    "# %% [markdown]\n",
    "## 7. Visualization (inline GIF only)\n",
    "\n",
    "# %%\n",
    "import sys, os\n",
    "# make sure src/ is importable\n",
    "sys.path.append(os.path.abspath(os.path.join(os.getcwd(), \"..\", \"src\")))\n",
    "\n",
    "import matplotlib.pyplot as plt\n",
    "plt.ioff()  # turn interactive plotting off\n",
    "\n",
    "from trap import create_trap_graph\n",
    "from modules.visualization import visualize_movement_on_trap\n",
    "from IPython.utils import io\n",
    "from IPython.display import Image, display\n",
    "\n",
    "# Capture/suppress any static plots or stdout/stderr from the visualize call\n",
    "with io.capture_output():\n",
    "    trap = create_trap_graph()\n",
    "    visualize_movement_on_trap(trap, positions, gates)\n",
    "    plt.close('all')  # close any figures that were created\n",
    "\n",
    "# Now just display the saved GIF\n",
    "display(Image(filename=\"qubit_movement.gif\"))"
   ]
  }
 ],
 "metadata": {
  "kernelspec": {
   "display_name": ".venv",
   "language": "python",
   "name": "python3"
  },
  "language_info": {
   "codemirror_mode": {
    "name": "ipython",
    "version": 3
   },
   "file_extension": ".py",
   "mimetype": "text/x-python",
   "name": "python",
   "nbconvert_exporter": "python",
   "pygments_lexer": "ipython3",
   "version": "3.9.6"
  }
 },
 "nbformat": 4,
 "nbformat_minor": 5
}
